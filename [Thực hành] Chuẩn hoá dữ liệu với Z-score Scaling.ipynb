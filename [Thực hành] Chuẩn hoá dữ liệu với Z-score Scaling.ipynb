{
 "cells": [
  {
   "cell_type": "markdown",
   "id": "4e0cc66a",
   "metadata": {},
   "source": [
    "### 1. Khai báo thư viện cần dùng"
   ]
  },
  {
   "cell_type": "code",
   "execution_count": 3,
   "id": "a1919029",
   "metadata": {},
   "outputs": [],
   "source": [
    "import pandas as pd\n",
    "import numpy as np\n",
    "import matplotlib.pyplot as plt\n",
    "import seaborn as sns\n",
    "from sklearn.preprocessing import StandardScaler"
   ]
  },
  {
   "cell_type": "markdown",
   "id": "6aef1cf9",
   "metadata": {},
   "source": [
    "### 2. Khởi tạo dữ liệu"
   ]
  },
  {
   "cell_type": "code",
   "execution_count": 4,
   "id": "a7922a8c",
   "metadata": {},
   "outputs": [],
   "source": [
    "# tạo các cột theo các phần phối khác nhau\n",
    "df = pd.DataFrame({ \n",
    "    'beta': np.random.beta(5, 1, 1000) * 60,        # beta\n",
    "    'exponential': np.random.exponential(10, 1000), # exponential\n",
    "    'normal_p': np.random.normal(10, 2, 1000),      # normal platykurtic\n",
    "    'normal_l': np.random.normal(10, 10, 1000),     # normal leptokurtic\n",
    "})"
   ]
  },
  {
   "cell_type": "code",
   "execution_count": 5,
   "id": "73f026da",
   "metadata": {},
   "outputs": [],
   "source": [
    "# thêm dữ liệu được tạo theo phân phối nhị thức\n",
    "first_half = np.random.normal(20, 3, 500) \n",
    "second_half = np.random.normal(-20, 3, 500) \n",
    "bimodal = np.concatenate([first_half, second_half])\n",
    "\n",
    "df['bimodal'] = bimodal"
   ]
  },
  {
   "cell_type": "code",
   "execution_count": 6,
   "id": "ca857b65",
   "metadata": {},
   "outputs": [
    {
     "data": {
      "text/html": [
       "<div>\n",
       "<style scoped>\n",
       "    .dataframe tbody tr th:only-of-type {\n",
       "        vertical-align: middle;\n",
       "    }\n",
       "\n",
       "    .dataframe tbody tr th {\n",
       "        vertical-align: top;\n",
       "    }\n",
       "\n",
       "    .dataframe thead th {\n",
       "        text-align: right;\n",
       "    }\n",
       "</style>\n",
       "<table border=\"1\" class=\"dataframe\">\n",
       "  <thead>\n",
       "    <tr style=\"text-align: right;\">\n",
       "      <th></th>\n",
       "      <th>beta</th>\n",
       "      <th>exponential</th>\n",
       "      <th>normal_p</th>\n",
       "      <th>normal_l</th>\n",
       "      <th>bimodal</th>\n",
       "    </tr>\n",
       "  </thead>\n",
       "  <tbody>\n",
       "    <tr>\n",
       "      <th>0</th>\n",
       "      <td>49.848111</td>\n",
       "      <td>8.231199</td>\n",
       "      <td>6.449098</td>\n",
       "      <td>-0.571897</td>\n",
       "      <td>16.330996</td>\n",
       "    </tr>\n",
       "    <tr>\n",
       "      <th>1</th>\n",
       "      <td>52.573085</td>\n",
       "      <td>1.297589</td>\n",
       "      <td>10.446262</td>\n",
       "      <td>12.706096</td>\n",
       "      <td>24.421542</td>\n",
       "    </tr>\n",
       "    <tr>\n",
       "      <th>2</th>\n",
       "      <td>40.939034</td>\n",
       "      <td>6.005297</td>\n",
       "      <td>10.547847</td>\n",
       "      <td>28.157264</td>\n",
       "      <td>23.377742</td>\n",
       "    </tr>\n",
       "    <tr>\n",
       "      <th>3</th>\n",
       "      <td>31.921432</td>\n",
       "      <td>17.343814</td>\n",
       "      <td>9.461507</td>\n",
       "      <td>-6.585072</td>\n",
       "      <td>16.788215</td>\n",
       "    </tr>\n",
       "    <tr>\n",
       "      <th>4</th>\n",
       "      <td>58.670371</td>\n",
       "      <td>6.509166</td>\n",
       "      <td>7.714434</td>\n",
       "      <td>4.607747</td>\n",
       "      <td>17.304875</td>\n",
       "    </tr>\n",
       "  </tbody>\n",
       "</table>\n",
       "</div>"
      ],
      "text/plain": [
       "        beta  exponential   normal_p   normal_l    bimodal\n",
       "0  49.848111     8.231199   6.449098  -0.571897  16.330996\n",
       "1  52.573085     1.297589  10.446262  12.706096  24.421542\n",
       "2  40.939034     6.005297  10.547847  28.157264  23.377742\n",
       "3  31.921432    17.343814   9.461507  -6.585072  16.788215\n",
       "4  58.670371     6.509166   7.714434   4.607747  17.304875"
      ]
     },
     "execution_count": 6,
     "metadata": {},
     "output_type": "execute_result"
    }
   ],
   "source": [
    "# hiển thị dữ liệu\n",
    "df.head()"
   ]
  },
  {
   "cell_type": "markdown",
   "id": "f80c593e",
   "metadata": {},
   "source": [
    "### 3. Trực quan hoá dữ liệu sinh ra"
   ]
  },
  {
   "cell_type": "code",
   "execution_count": 7,
   "id": "be3faf93",
   "metadata": {},
   "outputs": [
    {
     "data": {
      "text/plain": [
       "<AxesSubplot:ylabel='Density'>"
      ]
     },
     "execution_count": 7,
     "metadata": {},
     "output_type": "execute_result"
    },
    {
     "data": {
      "image/png": "[encoded data removed]",
      "text/plain": [
       "<Figure size 432x288 with 1 Axes>"
      ]
     },
     "metadata": {
      "needs_background": "light"
     },
     "output_type": "display_data"
    }
   ],
   "source": [
    "sns.kdeplot(data=df)"
   ]
  },
  {
   "cell_type": "markdown",
   "id": "b8385936",
   "metadata": {},
   "source": [
    "### 4. Hiển thị thống kê về dữ liệu sinh ra"
   ]
  },
  {
   "cell_type": "code",
   "execution_count": 9,
   "id": "a63c2083",
   "metadata": {},
   "outputs": [
    {
     "data": {
      "text/html": [
       "<div>\n",
       "<style scoped>\n",
       "    .dataframe tbody tr th:only-of-type {\n",
       "        vertical-align: middle;\n",
       "    }\n",
       "\n",
       "    .dataframe tbody tr th {\n",
       "        vertical-align: top;\n",
       "    }\n",
       "\n",
       "    .dataframe thead th {\n",
       "        text-align: right;\n",
       "    }\n",
       "</style>\n",
       "<table border=\"1\" class=\"dataframe\">\n",
       "  <thead>\n",
       "    <tr style=\"text-align: right;\">\n",
       "      <th></th>\n",
       "      <th>beta</th>\n",
       "      <th>exponential</th>\n",
       "      <th>normal_p</th>\n",
       "      <th>normal_l</th>\n",
       "      <th>bimodal</th>\n",
       "    </tr>\n",
       "  </thead>\n",
       "  <tbody>\n",
       "    <tr>\n",
       "      <th>count</th>\n",
       "      <td>1000.000000</td>\n",
       "      <td>1000.000000</td>\n",
       "      <td>1000.000000</td>\n",
       "      <td>1000.000000</td>\n",
       "      <td>1000.000000</td>\n",
       "    </tr>\n",
       "    <tr>\n",
       "      <th>mean</th>\n",
       "      <td>50.009774</td>\n",
       "      <td>9.866199</td>\n",
       "      <td>9.958236</td>\n",
       "      <td>9.900296</td>\n",
       "      <td>0.072687</td>\n",
       "    </tr>\n",
       "    <tr>\n",
       "      <th>std</th>\n",
       "      <td>8.355209</td>\n",
       "      <td>9.681614</td>\n",
       "      <td>1.914200</td>\n",
       "      <td>9.923416</td>\n",
       "      <td>20.268404</td>\n",
       "    </tr>\n",
       "    <tr>\n",
       "      <th>min</th>\n",
       "      <td>14.526955</td>\n",
       "      <td>0.001351</td>\n",
       "      <td>3.402395</td>\n",
       "      <td>-17.468809</td>\n",
       "      <td>-28.927890</td>\n",
       "    </tr>\n",
       "    <tr>\n",
       "      <th>25%</th>\n",
       "      <td>45.041424</td>\n",
       "      <td>2.861968</td>\n",
       "      <td>8.614106</td>\n",
       "      <td>3.077135</td>\n",
       "      <td>-19.896265</td>\n",
       "    </tr>\n",
       "    <tr>\n",
       "      <th>50%</th>\n",
       "      <td>52.223321</td>\n",
       "      <td>7.001433</td>\n",
       "      <td>9.973123</td>\n",
       "      <td>10.162735</td>\n",
       "      <td>0.005695</td>\n",
       "    </tr>\n",
       "    <tr>\n",
       "      <th>75%</th>\n",
       "      <td>56.727239</td>\n",
       "      <td>13.600672</td>\n",
       "      <td>11.313713</td>\n",
       "      <td>16.911487</td>\n",
       "      <td>20.219139</td>\n",
       "    </tr>\n",
       "    <tr>\n",
       "      <th>max</th>\n",
       "      <td>59.987268</td>\n",
       "      <td>77.556061</td>\n",
       "      <td>15.602910</td>\n",
       "      <td>45.680114</td>\n",
       "      <td>27.555356</td>\n",
       "    </tr>\n",
       "  </tbody>\n",
       "</table>\n",
       "</div>"
      ],
      "text/plain": [
       "              beta  exponential     normal_p     normal_l      bimodal\n",
       "count  1000.000000  1000.000000  1000.000000  1000.000000  1000.000000\n",
       "mean     50.009774     9.866199     9.958236     9.900296     0.072687\n",
       "std       8.355209     9.681614     1.914200     9.923416    20.268404\n",
       "min      14.526955     0.001351     3.402395   -17.468809   -28.927890\n",
       "25%      45.041424     2.861968     8.614106     3.077135   -19.896265\n",
       "50%      52.223321     7.001433     9.973123    10.162735     0.005695\n",
       "75%      56.727239    13.600672    11.313713    16.911487    20.219139\n",
       "max      59.987268    77.556061    15.602910    45.680114    27.555356"
      ]
     },
     "execution_count": 9,
     "metadata": {},
     "output_type": "execute_result"
    }
   ],
   "source": [
    "df.describe()\n"
   ]
  },
  {
   "cell_type": "markdown",
   "id": "182e90bb",
   "metadata": {},
   "source": [
    "### 5. Thêm một đặc trưng với giá trị lớn hơn nhiều"
   ]
  },
  {
   "cell_type": "code",
   "execution_count": 11,
   "id": "d5865357",
   "metadata": {},
   "outputs": [
    {
     "data": {
      "text/plain": [
       "<AxesSubplot:ylabel='Density'>"
      ]
     },
     "execution_count": 11,
     "metadata": {},
     "output_type": "execute_result"
    },
    {
     "data": {
      "image/png": "[encoded data removed]",
      "text/plain": [
       "<Figure size 432x288 with 1 Axes>"
      ]
     },
     "metadata": {
      "needs_background": "light"
     },
     "output_type": "display_data"
    }
   ],
   "source": [
    "normal_big = np.random.normal(1000000, 10000, (1000,1))  # normal distribution of large values\n",
    "df['normal_big'] = normal_big\n",
    "sns.kdeplot(data=df)"
   ]
  },
  {
   "cell_type": "code",
   "execution_count": 12,
   "id": "0837e9b5",
   "metadata": {},
   "outputs": [
    {
     "data": {
      "text/plain": [
       "<AxesSubplot:>"
      ]
     },
     "execution_count": 12,
     "metadata": {},
     "output_type": "execute_result"
    },
    {
     "data": {
      "image/png": "[encoded data removed]",
      "text/plain": [
       "<Figure size 432x288 with 1 Axes>"
      ]
     },
     "metadata": {
      "needs_background": "light"
     },
     "output_type": "display_data"
    }
   ],
   "source": [
    "# trực quan hóa bằng biểu đồ box plot\n",
    "df.boxplot()"
   ]
  },
  {
   "cell_type": "markdown",
   "id": "79d60287",
   "metadata": {},
   "source": [
    "### 6. Chuẩn hoá với StandardScaler (Z-Score Scaling)"
   ]
  },
  {
   "cell_type": "code",
   "execution_count": 13,
   "id": "2b8c0492",
   "metadata": {},
   "outputs": [],
   "source": [
    "# Khai báo đối tượng StandardScaler\n",
    "s_scaler = StandardScaler()"
   ]
  },
  {
   "cell_type": "code",
   "execution_count": 14,
   "id": "8d57be07",
   "metadata": {},
   "outputs": [],
   "source": [
    "# Chuẩn hóa dữ liệu trong df với StandardScaler\n",
    "df_s = s_scaler.fit_transform(df)\n",
    "\n",
    "# lấy danh sáchc cột\n",
    "col_names = list(df.columns)\n",
    "\n",
    "# chuyển về DataFrame, gán các cột của df cho dữ liệu đã được chuẩn hóa\n",
    "df_s = pd.DataFrame(df_s, columns=col_names)"
   ]
  },
  {
   "cell_type": "code",
   "execution_count": 15,
   "id": "4eb73931",
   "metadata": {},
   "outputs": [
    {
     "data": {
      "text/html": [
       "<div>\n",
       "<style scoped>\n",
       "    .dataframe tbody tr th:only-of-type {\n",
       "        vertical-align: middle;\n",
       "    }\n",
       "\n",
       "    .dataframe tbody tr th {\n",
       "        vertical-align: top;\n",
       "    }\n",
       "\n",
       "    .dataframe thead th {\n",
       "        text-align: right;\n",
       "    }\n",
       "</style>\n",
       "<table border=\"1\" class=\"dataframe\">\n",
       "  <thead>\n",
       "    <tr style=\"text-align: right;\">\n",
       "      <th></th>\n",
       "      <th>beta</th>\n",
       "      <th>exponential</th>\n",
       "      <th>normal_p</th>\n",
       "      <th>normal_l</th>\n",
       "      <th>bimodal</th>\n",
       "      <th>normal_big</th>\n",
       "    </tr>\n",
       "  </thead>\n",
       "  <tbody>\n",
       "    <tr>\n",
       "      <th>0</th>\n",
       "      <td>-0.019358</td>\n",
       "      <td>-0.168961</td>\n",
       "      <td>-1.834131</td>\n",
       "      <td>-1.055829</td>\n",
       "      <td>0.802552</td>\n",
       "      <td>-0.398973</td>\n",
       "    </tr>\n",
       "    <tr>\n",
       "      <th>1</th>\n",
       "      <td>0.306946</td>\n",
       "      <td>-0.885482</td>\n",
       "      <td>0.255078</td>\n",
       "      <td>0.282887</td>\n",
       "      <td>1.201922</td>\n",
       "      <td>-0.884027</td>\n",
       "    </tr>\n",
       "    <tr>\n",
       "      <th>2</th>\n",
       "      <td>-1.086182</td>\n",
       "      <td>-0.398987</td>\n",
       "      <td>0.308174</td>\n",
       "      <td>1.840707</td>\n",
       "      <td>1.150397</td>\n",
       "      <td>-1.546722</td>\n",
       "    </tr>\n",
       "    <tr>\n",
       "      <th>3</th>\n",
       "      <td>-2.166001</td>\n",
       "      <td>0.772739</td>\n",
       "      <td>-0.259627</td>\n",
       "      <td>-1.662091</td>\n",
       "      <td>0.825121</td>\n",
       "      <td>-0.451379</td>\n",
       "    </tr>\n",
       "    <tr>\n",
       "      <th>4</th>\n",
       "      <td>1.037069</td>\n",
       "      <td>-0.346917</td>\n",
       "      <td>-1.172774</td>\n",
       "      <td>-0.533606</td>\n",
       "      <td>0.850625</td>\n",
       "      <td>0.523793</td>\n",
       "    </tr>\n",
       "  </tbody>\n",
       "</table>\n",
       "</div>"
      ],
      "text/plain": [
       "       beta  exponential  normal_p  normal_l   bimodal  normal_big\n",
       "0 -0.019358    -0.168961 -1.834131 -1.055829  0.802552   -0.398973\n",
       "1  0.306946    -0.885482  0.255078  0.282887  1.201922   -0.884027\n",
       "2 -1.086182    -0.398987  0.308174  1.840707  1.150397   -1.546722\n",
       "3 -2.166001     0.772739 -0.259627 -1.662091  0.825121   -0.451379\n",
       "4  1.037069    -0.346917 -1.172774 -0.533606  0.850625    0.523793"
      ]
     },
     "execution_count": 15,
     "metadata": {},
     "output_type": "execute_result"
    }
   ],
   "source": [
    "df_s.head()\n"
   ]
  },
  {
   "cell_type": "code",
   "execution_count": 16,
   "id": "09e84cbd",
   "metadata": {},
   "outputs": [
    {
     "data": {
      "text/plain": [
       "<AxesSubplot:ylabel='Density'>"
      ]
     },
     "execution_count": 16,
     "metadata": {},
     "output_type": "execute_result"
    },
    {
     "data": {
      "image/png": "[encoded data removed]",
      "text/plain": [
       "<Figure size 432x288 with 1 Axes>"
      ]
     },
     "metadata": {
      "needs_background": "light"
     },
     "output_type": "display_data"
    }
   ],
   "source": [
    "# biểu diễn dữ liệu đã được chuẩn hóa\n",
    "sns.kdeplot(data=df_s)"
   ]
  },
  {
   "cell_type": "code",
   "execution_count": 17,
   "id": "068bb039",
   "metadata": {},
   "outputs": [
    {
     "data": {
      "text/html": [
       "<div>\n",
       "<style scoped>\n",
       "    .dataframe tbody tr th:only-of-type {\n",
       "        vertical-align: middle;\n",
       "    }\n",
       "\n",
       "    .dataframe tbody tr th {\n",
       "        vertical-align: top;\n",
       "    }\n",
       "\n",
       "    .dataframe thead th {\n",
       "        text-align: right;\n",
       "    }\n",
       "</style>\n",
       "<table border=\"1\" class=\"dataframe\">\n",
       "  <thead>\n",
       "    <tr style=\"text-align: right;\">\n",
       "      <th></th>\n",
       "      <th>beta</th>\n",
       "      <th>exponential</th>\n",
       "      <th>normal_p</th>\n",
       "      <th>normal_l</th>\n",
       "      <th>bimodal</th>\n",
       "      <th>normal_big</th>\n",
       "    </tr>\n",
       "  </thead>\n",
       "  <tbody>\n",
       "    <tr>\n",
       "      <th>count</th>\n",
       "      <td>1.000000e+03</td>\n",
       "      <td>1.000000e+03</td>\n",
       "      <td>1.000000e+03</td>\n",
       "      <td>1.000000e+03</td>\n",
       "      <td>1.000000e+03</td>\n",
       "      <td>1.000000e+03</td>\n",
       "    </tr>\n",
       "    <tr>\n",
       "      <th>mean</th>\n",
       "      <td>7.043255e-16</td>\n",
       "      <td>-6.632195e-17</td>\n",
       "      <td>1.079581e-15</td>\n",
       "      <td>2.514655e-17</td>\n",
       "      <td>-6.177281e-16</td>\n",
       "      <td>-3.001599e-15</td>\n",
       "    </tr>\n",
       "    <tr>\n",
       "      <th>std</th>\n",
       "      <td>1.000500e+00</td>\n",
       "      <td>1.000500e+00</td>\n",
       "      <td>1.000500e+00</td>\n",
       "      <td>1.000500e+00</td>\n",
       "      <td>1.000500e+00</td>\n",
       "      <td>1.000500e+00</td>\n",
       "    </tr>\n",
       "    <tr>\n",
       "      <th>min</th>\n",
       "      <td>-4.248915e+00</td>\n",
       "      <td>-1.019436e+00</td>\n",
       "      <td>-3.426560e+00</td>\n",
       "      <td>-2.759413e+00</td>\n",
       "      <td>-1.431543e+00</td>\n",
       "      <td>-3.192804e+00</td>\n",
       "    </tr>\n",
       "    <tr>\n",
       "      <th>25%</th>\n",
       "      <td>-5.949386e-01</td>\n",
       "      <td>-7.238190e-01</td>\n",
       "      <td>-7.025404e-01</td>\n",
       "      <td>-6.879259e-01</td>\n",
       "      <td>-9.857186e-01</td>\n",
       "      <td>-7.002933e-01</td>\n",
       "    </tr>\n",
       "    <tr>\n",
       "      <th>50%</th>\n",
       "      <td>2.650627e-01</td>\n",
       "      <td>-2.960456e-01</td>\n",
       "      <td>7.781042e-03</td>\n",
       "      <td>2.645968e-02</td>\n",
       "      <td>-3.306910e-03</td>\n",
       "      <td>-7.533857e-05</td>\n",
       "    </tr>\n",
       "    <tr>\n",
       "      <th>75%</th>\n",
       "      <td>8.043876e-01</td>\n",
       "      <td>3.859213e-01</td>\n",
       "      <td>7.084712e-01</td>\n",
       "      <td>7.068836e-01</td>\n",
       "      <td>9.944805e-01</td>\n",
       "      <td>7.062173e-01</td>\n",
       "    </tr>\n",
       "    <tr>\n",
       "      <th>max</th>\n",
       "      <td>1.194762e+00</td>\n",
       "      <td>6.995087e+00</td>\n",
       "      <td>2.950318e+00</td>\n",
       "      <td>3.607399e+00</td>\n",
       "      <td>1.356615e+00</td>\n",
       "      <td>3.535931e+00</td>\n",
       "    </tr>\n",
       "  </tbody>\n",
       "</table>\n",
       "</div>"
      ],
      "text/plain": [
       "               beta   exponential      normal_p      normal_l       bimodal  \\\n",
       "count  1.000000e+03  1.000000e+03  1.000000e+03  1.000000e+03  1.000000e+03   \n",
       "mean   7.043255e-16 -6.632195e-17  1.079581e-15  2.514655e-17 -6.177281e-16   \n",
       "std    1.000500e+00  1.000500e+00  1.000500e+00  1.000500e+00  1.000500e+00   \n",
       "min   -4.248915e+00 -1.019436e+00 -3.426560e+00 -2.759413e+00 -1.431543e+00   \n",
       "25%   -5.949386e-01 -7.238190e-01 -7.025404e-01 -6.879259e-01 -9.857186e-01   \n",
       "50%    2.650627e-01 -2.960456e-01  7.781042e-03  2.645968e-02 -3.306910e-03   \n",
       "75%    8.043876e-01  3.859213e-01  7.084712e-01  7.068836e-01  9.944805e-01   \n",
       "max    1.194762e+00  6.995087e+00  2.950318e+00  3.607399e+00  1.356615e+00   \n",
       "\n",
       "         normal_big  \n",
       "count  1.000000e+03  \n",
       "mean  -3.001599e-15  \n",
       "std    1.000500e+00  \n",
       "min   -3.192804e+00  \n",
       "25%   -7.002933e-01  \n",
       "50%   -7.533857e-05  \n",
       "75%    7.062173e-01  \n",
       "max    3.535931e+00  "
      ]
     },
     "execution_count": 17,
     "metadata": {},
     "output_type": "execute_result"
    }
   ],
   "source": [
    "# thống kê về dữ liệu được sinh ra\n",
    "df_s.describe()"
   ]
  },
  {
   "cell_type": "code",
   "execution_count": 18,
   "id": "4f9a41b9",
   "metadata": {},
   "outputs": [
    {
     "data": {
      "text/plain": [
       "<AxesSubplot:>"
      ]
     },
     "execution_count": 18,
     "metadata": {},
     "output_type": "execute_result"
    },
    {
     "data": {
      "image/png": "[encoded data removed]",
      "text/plain": [
       "<Figure size 432x288 with 1 Axes>"
      ]
     },
     "metadata": {
      "needs_background": "light"
     },
     "output_type": "display_data"
    }
   ],
   "source": [
    "# trực quan hóa bằng biểu đồ box plot\n",
    "df_s.boxplot()"
   ]
  },
  {
   "cell_type": "markdown",
   "id": "794be415",
   "metadata": {},
   "source": [
    "Chúng ta có thể thấy rằng các phân phối đã được điều chỉnh và giá trị trung bình là một số rất nhỏ gần bằng 0 và độ lệch chuẩn rất gần bằng 1 cho mỗi biến."
   ]
  }
 ],
 "metadata": {
  "kernelspec": {
   "display_name": "Python 3 (ipykernel)",
   "language": "python",
   "name": "python3"
  },
  "language_info": {
   "codemirror_mode": {
    "name": "ipython",
    "version": 3
   },
   "file_extension": ".py",
   "mimetype": "text/x-python",
   "name": "python",
   "nbconvert_exporter": "python",
   "pygments_lexer": "ipython3",
   "version": "3.9.12"
  }
 },
 "nbformat": 4,
 "nbformat_minor": 5
}
